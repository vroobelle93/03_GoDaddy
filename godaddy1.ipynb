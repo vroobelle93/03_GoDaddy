{
 "cells": [
  {
   "cell_type": "markdown",
   "source": [
    "# Microbusiness density forecasting"
   ],
   "metadata": {
    "collapsed": false
   }
  },
  {
   "cell_type": "markdown",
   "source": [
    "American policy leaders strive to develop economies that are more inclusive and resilient to downturns. They're also aware that with advances in technology, entrepreneurship has never been more accessible than it is today. Whether to create a more appropriate work/life balance, to follow a passion, or due to loss of employment, studies have demonstrated that Americans increasingly choose to create businesses of their own to meet their financial goals. The challenge is that these \"microbusinesses\" are often too small or too new to show up in traditional economic data sources, making it nearly impossible for policymakers to study them. But data science could help fill in the gaps and provide insights into the factors associated these businesses.\n",
    "\n",
    "In this project I will try to evaluate and compare several regression models that will predict those values using machine learning tools. It is based on kaggle competition - [GoDaddy - Microbusiness Density Forecasting](https://www.kaggle.com/competitions/godaddy-microbusiness-density-forecasting/overview)."
   ],
   "metadata": {
    "collapsed": false
   }
  },
  {
   "cell_type": "markdown",
   "source": [
    "<img src=\"img/img1.jpg\" alt=\"Happy enterpreneur\" title=\"Just look at how happy he is\" />"
   ],
   "metadata": {
    "collapsed": false
   }
  },
  {
   "cell_type": "markdown",
   "source": [
    "Let's begin with imports and initial commands:"
   ],
   "metadata": {
    "collapsed": false
   }
  },
  {
   "cell_type": "code",
   "execution_count": 1,
   "metadata": {
    "collapsed": true
   },
   "outputs": [],
   "source": [
    "import datetime\n",
    "import matplotlib.pyplot as plt\n",
    "import numpy as np\n",
    "import pandas as pd\n",
    "import seaborn as sns\n",
    "\n",
    "from sklearn import linear_model\n",
    "\n",
    "pd.set_option('mode.chained_assignment', None) # Turn off SettingWithCopyWarning"
   ]
  },
  {
   "cell_type": "markdown",
   "source": [
    "## Data gathering\n",
    "First, let's import data provided by the competition organizers that we will use. Datasets that will be imported:\n",
    "\n",
    "- train_set - this contains information regarding each county and target variable for training:\n",
    "    - row_id - An ID code for the row,\n",
    "    - cfips - A unique identifier for each county using the Federal Information Processing System. The first two digits correspond to the state FIPS code, while the following 3 represent the county,\n",
    "    - county_name - The written name of the county,\n",
    "    - state_name - The name of the state,\n",
    "    - first_day_of_month - The date of the first day of the month\n",
    "    - microbusiness_density - Microbusinesses per 100 people over the age of 18 in the given county. This is the target variable. The population figures used to calculate the density are on a two-year lag due to the pace of update provided by the U.S. Census Bureau, which provides the underlying population data annually. 2021 density figures are calculated using 2019 population figures, etc.,\n",
    "    - active - The raw count of microbusinesses in the county. Not provided for the test set.\n",
    "- revealed_test - Set of revealed values for the most recent months available. I will use it to test my results.\n",
    "- sample_submission - This set contains rows that must br predicted to take part in the competition.\n"
   ],
   "metadata": {
    "collapsed": false
   }
  },
  {
   "cell_type": "code",
   "execution_count": 2,
   "outputs": [
    {
     "data": {
      "text/plain": "            row_id  cfips          county    state first_day_of_month  \\\n0  1001_2019-08-01   1001  Autauga County  Alabama         2019-08-01   \n1  1001_2019-09-01   1001  Autauga County  Alabama         2019-09-01   \n2  1001_2019-10-01   1001  Autauga County  Alabama         2019-10-01   \n\n   microbusiness_density  active  \n0               3.007682    1249  \n1               2.884870    1198  \n2               3.055843    1269  ",
      "text/html": "<div>\n<style scoped>\n    .dataframe tbody tr th:only-of-type {\n        vertical-align: middle;\n    }\n\n    .dataframe tbody tr th {\n        vertical-align: top;\n    }\n\n    .dataframe thead th {\n        text-align: right;\n    }\n</style>\n<table border=\"1\" class=\"dataframe\">\n  <thead>\n    <tr style=\"text-align: right;\">\n      <th></th>\n      <th>row_id</th>\n      <th>cfips</th>\n      <th>county</th>\n      <th>state</th>\n      <th>first_day_of_month</th>\n      <th>microbusiness_density</th>\n      <th>active</th>\n    </tr>\n  </thead>\n  <tbody>\n    <tr>\n      <th>0</th>\n      <td>1001_2019-08-01</td>\n      <td>1001</td>\n      <td>Autauga County</td>\n      <td>Alabama</td>\n      <td>2019-08-01</td>\n      <td>3.007682</td>\n      <td>1249</td>\n    </tr>\n    <tr>\n      <th>1</th>\n      <td>1001_2019-09-01</td>\n      <td>1001</td>\n      <td>Autauga County</td>\n      <td>Alabama</td>\n      <td>2019-09-01</td>\n      <td>2.884870</td>\n      <td>1198</td>\n    </tr>\n    <tr>\n      <th>2</th>\n      <td>1001_2019-10-01</td>\n      <td>1001</td>\n      <td>Autauga County</td>\n      <td>Alabama</td>\n      <td>2019-10-01</td>\n      <td>3.055843</td>\n      <td>1269</td>\n    </tr>\n  </tbody>\n</table>\n</div>"
     },
     "execution_count": 2,
     "metadata": {},
     "output_type": "execute_result"
    }
   ],
   "source": [
    "train_set = pd.read_csv('data/train.csv')\n",
    "train_set.head(3)"
   ],
   "metadata": {
    "collapsed": false
   }
  },
  {
   "cell_type": "code",
   "execution_count": 3,
   "outputs": [
    {
     "data": {
      "text/plain": "            row_id  cfips          county    state first_day_of_month  \\\n0  1001_2022-11-01   1001  Autauga County  Alabama         2022-11-01   \n1  1001_2022-12-01   1001  Autauga County  Alabama         2022-12-01   \n2  1003_2022-11-01   1003  Baldwin County  Alabama         2022-11-01   \n\n   microbusiness_density  active  \n0               3.442677    1463  \n1               3.470915    1475  \n2               8.257636   14145  ",
      "text/html": "<div>\n<style scoped>\n    .dataframe tbody tr th:only-of-type {\n        vertical-align: middle;\n    }\n\n    .dataframe tbody tr th {\n        vertical-align: top;\n    }\n\n    .dataframe thead th {\n        text-align: right;\n    }\n</style>\n<table border=\"1\" class=\"dataframe\">\n  <thead>\n    <tr style=\"text-align: right;\">\n      <th></th>\n      <th>row_id</th>\n      <th>cfips</th>\n      <th>county</th>\n      <th>state</th>\n      <th>first_day_of_month</th>\n      <th>microbusiness_density</th>\n      <th>active</th>\n    </tr>\n  </thead>\n  <tbody>\n    <tr>\n      <th>0</th>\n      <td>1001_2022-11-01</td>\n      <td>1001</td>\n      <td>Autauga County</td>\n      <td>Alabama</td>\n      <td>2022-11-01</td>\n      <td>3.442677</td>\n      <td>1463</td>\n    </tr>\n    <tr>\n      <th>1</th>\n      <td>1001_2022-12-01</td>\n      <td>1001</td>\n      <td>Autauga County</td>\n      <td>Alabama</td>\n      <td>2022-12-01</td>\n      <td>3.470915</td>\n      <td>1475</td>\n    </tr>\n    <tr>\n      <th>2</th>\n      <td>1003_2022-11-01</td>\n      <td>1003</td>\n      <td>Baldwin County</td>\n      <td>Alabama</td>\n      <td>2022-11-01</td>\n      <td>8.257636</td>\n      <td>14145</td>\n    </tr>\n  </tbody>\n</table>\n</div>"
     },
     "execution_count": 3,
     "metadata": {},
     "output_type": "execute_result"
    }
   ],
   "source": [
    "revealed_test = pd.read_csv('data/revealed_test.csv')\n",
    "revealed_test.head(3)"
   ],
   "metadata": {
    "collapsed": false
   }
  },
  {
   "cell_type": "code",
   "execution_count": 4,
   "outputs": [
    {
     "data": {
      "text/plain": "            row_id  microbusiness_density\n0  1001_2022-11-01               3.817671\n1  1003_2022-11-01               3.817671\n2  1005_2022-11-01               3.817671",
      "text/html": "<div>\n<style scoped>\n    .dataframe tbody tr th:only-of-type {\n        vertical-align: middle;\n    }\n\n    .dataframe tbody tr th {\n        vertical-align: top;\n    }\n\n    .dataframe thead th {\n        text-align: right;\n    }\n</style>\n<table border=\"1\" class=\"dataframe\">\n  <thead>\n    <tr style=\"text-align: right;\">\n      <th></th>\n      <th>row_id</th>\n      <th>microbusiness_density</th>\n    </tr>\n  </thead>\n  <tbody>\n    <tr>\n      <th>0</th>\n      <td>1001_2022-11-01</td>\n      <td>3.817671</td>\n    </tr>\n    <tr>\n      <th>1</th>\n      <td>1003_2022-11-01</td>\n      <td>3.817671</td>\n    </tr>\n    <tr>\n      <th>2</th>\n      <td>1005_2022-11-01</td>\n      <td>3.817671</td>\n    </tr>\n  </tbody>\n</table>\n</div>"
     },
     "execution_count": 4,
     "metadata": {},
     "output_type": "execute_result"
    }
   ],
   "source": [
    "sample_submission = pd.read_csv('data/sample_submission.csv')\n",
    "sample_submission.head(3)"
   ],
   "metadata": {
    "collapsed": false
   }
  },
  {
   "cell_type": "markdown",
   "source": [
    "Next I am reading files found at website of [Bureau of Labor Statistics](https://www.bls.gov/home.htm), which contain:\n",
    "\n",
    "- manufacturing_employment_data - number of people employed in manufacturing - in thousands\n",
    "- private_employment_data - number of people employed in private firms - in thousands\n",
    "- public_employment_data - number of people employed in public institutions - in thousands\n",
    "- retail_employment_data - number of people employed in retail sector - in thousands\n",
    "- total_employment_data - total number of people employed - in thousands\n",
    "- unemployment_rate_data - unemployment rate\n",
    "\n",
    "This data will be used in fitting our models."
   ],
   "metadata": {
    "collapsed": false
   }
  },
  {
   "cell_type": "code",
   "execution_count": 5,
   "outputs": [
    {
     "data": {
      "text/plain": "       Geography  1990-01-01  1990-02-01  1990-03-01  1990-04-01  1990-05-01  \\\n0  United States     17797.0     17893.0     17868.0     17845.0     17797.0   \n1        Alabama       365.5       362.5       360.6       366.6       366.2   \n2         Alaska        12.4        12.4        12.9        13.7        14.5   \n3        Arizona       177.3       177.6       177.1       176.5       176.7   \n4       Arkansas       218.4       218.9       217.8       219.0       219.2   \n\n   1990-06-01  1990-07-01  1990-08-01  1990-09-01  ...  2022-03-01  \\\n0     17776.0     17704.0     17649.0     17609.0  ...     12689.0   \n1       367.5       364.6       364.7       364.9  ...       266.6   \n2        14.5        14.3        14.4        14.0  ...        11.1   \n3       176.8       177.2       176.8       176.1  ...       186.1   \n4       219.9       219.8       220.2       221.1  ...       162.2   \n\n   2022-04-01  2022-05-01  2022-06-01  2022-07-01  2022-08-01  2022-09-01  \\\n0     12750.0     12769.0     12794.0     12831.0     12867.0     12884.0   \n1       267.9       268.3       268.8       268.4       268.3       270.6   \n2        11.6        11.4        10.8        10.8        11.0        11.0   \n3       189.5       189.3       190.8       193.1       194.7       196.9   \n4       162.7       162.9       163.2       164.4       164.9       165.1   \n\n   2022-10-01  2022-11-01  2022-12-01  \n0     12918.0     12926.0     12934.0  \n1       271.7       272.1       272.7  \n2        11.2        11.3        11.1  \n3       197.6       197.6       198.4  \n4       165.0       164.2       164.4  \n\n[5 rows x 397 columns]",
      "text/html": "<div>\n<style scoped>\n    .dataframe tbody tr th:only-of-type {\n        vertical-align: middle;\n    }\n\n    .dataframe tbody tr th {\n        vertical-align: top;\n    }\n\n    .dataframe thead th {\n        text-align: right;\n    }\n</style>\n<table border=\"1\" class=\"dataframe\">\n  <thead>\n    <tr style=\"text-align: right;\">\n      <th></th>\n      <th>Geography</th>\n      <th>1990-01-01</th>\n      <th>1990-02-01</th>\n      <th>1990-03-01</th>\n      <th>1990-04-01</th>\n      <th>1990-05-01</th>\n      <th>1990-06-01</th>\n      <th>1990-07-01</th>\n      <th>1990-08-01</th>\n      <th>1990-09-01</th>\n      <th>...</th>\n      <th>2022-03-01</th>\n      <th>2022-04-01</th>\n      <th>2022-05-01</th>\n      <th>2022-06-01</th>\n      <th>2022-07-01</th>\n      <th>2022-08-01</th>\n      <th>2022-09-01</th>\n      <th>2022-10-01</th>\n      <th>2022-11-01</th>\n      <th>2022-12-01</th>\n    </tr>\n  </thead>\n  <tbody>\n    <tr>\n      <th>0</th>\n      <td>United States</td>\n      <td>17797.0</td>\n      <td>17893.0</td>\n      <td>17868.0</td>\n      <td>17845.0</td>\n      <td>17797.0</td>\n      <td>17776.0</td>\n      <td>17704.0</td>\n      <td>17649.0</td>\n      <td>17609.0</td>\n      <td>...</td>\n      <td>12689.0</td>\n      <td>12750.0</td>\n      <td>12769.0</td>\n      <td>12794.0</td>\n      <td>12831.0</td>\n      <td>12867.0</td>\n      <td>12884.0</td>\n      <td>12918.0</td>\n      <td>12926.0</td>\n      <td>12934.0</td>\n    </tr>\n    <tr>\n      <th>1</th>\n      <td>Alabama</td>\n      <td>365.5</td>\n      <td>362.5</td>\n      <td>360.6</td>\n      <td>366.6</td>\n      <td>366.2</td>\n      <td>367.5</td>\n      <td>364.6</td>\n      <td>364.7</td>\n      <td>364.9</td>\n      <td>...</td>\n      <td>266.6</td>\n      <td>267.9</td>\n      <td>268.3</td>\n      <td>268.8</td>\n      <td>268.4</td>\n      <td>268.3</td>\n      <td>270.6</td>\n      <td>271.7</td>\n      <td>272.1</td>\n      <td>272.7</td>\n    </tr>\n    <tr>\n      <th>2</th>\n      <td>Alaska</td>\n      <td>12.4</td>\n      <td>12.4</td>\n      <td>12.9</td>\n      <td>13.7</td>\n      <td>14.5</td>\n      <td>14.5</td>\n      <td>14.3</td>\n      <td>14.4</td>\n      <td>14.0</td>\n      <td>...</td>\n      <td>11.1</td>\n      <td>11.6</td>\n      <td>11.4</td>\n      <td>10.8</td>\n      <td>10.8</td>\n      <td>11.0</td>\n      <td>11.0</td>\n      <td>11.2</td>\n      <td>11.3</td>\n      <td>11.1</td>\n    </tr>\n    <tr>\n      <th>3</th>\n      <td>Arizona</td>\n      <td>177.3</td>\n      <td>177.6</td>\n      <td>177.1</td>\n      <td>176.5</td>\n      <td>176.7</td>\n      <td>176.8</td>\n      <td>177.2</td>\n      <td>176.8</td>\n      <td>176.1</td>\n      <td>...</td>\n      <td>186.1</td>\n      <td>189.5</td>\n      <td>189.3</td>\n      <td>190.8</td>\n      <td>193.1</td>\n      <td>194.7</td>\n      <td>196.9</td>\n      <td>197.6</td>\n      <td>197.6</td>\n      <td>198.4</td>\n    </tr>\n    <tr>\n      <th>4</th>\n      <td>Arkansas</td>\n      <td>218.4</td>\n      <td>218.9</td>\n      <td>217.8</td>\n      <td>219.0</td>\n      <td>219.2</td>\n      <td>219.9</td>\n      <td>219.8</td>\n      <td>220.2</td>\n      <td>221.1</td>\n      <td>...</td>\n      <td>162.2</td>\n      <td>162.7</td>\n      <td>162.9</td>\n      <td>163.2</td>\n      <td>164.4</td>\n      <td>164.9</td>\n      <td>165.1</td>\n      <td>165.0</td>\n      <td>164.2</td>\n      <td>164.4</td>\n    </tr>\n  </tbody>\n</table>\n<p>5 rows × 397 columns</p>\n</div>"
     },
     "execution_count": 5,
     "metadata": {},
     "output_type": "execute_result"
    }
   ],
   "source": [
    "# Create DF with additional data from csv files, containing several indicators for each state per month.\n",
    "manufacturing_employment_data = pd.read_csv('data/all_indicators-all_data/manufacturing_employment_raw_in_thousands.csv')\n",
    "private_employment_data = pd.read_csv('data/all_indicators-all_data/private_employment_raw_in_thousands.csv')\n",
    "public_employment_data = pd.read_csv('data/all_indicators-all_data/public_employment_raw_in_thousands.csv')\n",
    "retail_employment_data = pd.read_csv('data/all_indicators-all_data/retail_trade_employment_raw_in_thousands.csv')\n",
    "total_employment_data = pd.read_csv('data/all_indicators-all_data/total_employment_raw_in_thousands.csv')\n",
    "unemployment_rate_data = pd.read_csv('data/all_indicators-all_data/unemployment_rate_raw.csv')\n",
    "\n",
    "# Sample head:\n",
    "manufacturing_employment_data.head()"
   ],
   "metadata": {
    "collapsed": false
   }
  },
  {
   "cell_type": "markdown",
   "source": [
    "## Exploratory data analysis"
   ],
   "metadata": {
    "collapsed": false
   }
  },
  {
   "cell_type": "markdown",
   "source": [
    "TODOTODOTODOTODOTODOTODOTODOTODOTODOTODOTODOTODOTODOTODOTODOTODOTODOTODOTODOTODOTODOTODOTODO\n",
    "Put here lag feature"
   ],
   "metadata": {
    "collapsed": false
   }
  },
  {
   "cell_type": "markdown",
   "source": [
    "## Feature engineering"
   ],
   "metadata": {
    "collapsed": false
   }
  },
  {
   "cell_type": "markdown",
   "source": [
    "### Datasets manipulation"
   ],
   "metadata": {
    "collapsed": false
   }
  },
  {
   "cell_type": "markdown",
   "source": [
    "I want to gather data read in previous step in one DataFrame. To do it I must reshape the DataFrames:"
   ],
   "metadata": {
    "collapsed": false
   }
  },
  {
   "cell_type": "code",
   "execution_count": 6,
   "outputs": [
    {
     "data": {
      "text/plain": "       Geography first_day_of_month  public_employment\n0  United States         1990-01-01            18151.0\n1        Alabama         1990-01-01              325.4\n2         Alaska         1990-01-01               68.8",
      "text/html": "<div>\n<style scoped>\n    .dataframe tbody tr th:only-of-type {\n        vertical-align: middle;\n    }\n\n    .dataframe tbody tr th {\n        vertical-align: top;\n    }\n\n    .dataframe thead th {\n        text-align: right;\n    }\n</style>\n<table border=\"1\" class=\"dataframe\">\n  <thead>\n    <tr style=\"text-align: right;\">\n      <th></th>\n      <th>Geography</th>\n      <th>first_day_of_month</th>\n      <th>public_employment</th>\n    </tr>\n  </thead>\n  <tbody>\n    <tr>\n      <th>0</th>\n      <td>United States</td>\n      <td>1990-01-01</td>\n      <td>18151.0</td>\n    </tr>\n    <tr>\n      <th>1</th>\n      <td>Alabama</td>\n      <td>1990-01-01</td>\n      <td>325.4</td>\n    </tr>\n    <tr>\n      <th>2</th>\n      <td>Alaska</td>\n      <td>1990-01-01</td>\n      <td>68.8</td>\n    </tr>\n  </tbody>\n</table>\n</div>"
     },
     "execution_count": 6,
     "metadata": {},
     "output_type": "execute_result"
    }
   ],
   "source": [
    "# Reshape datasets\n",
    "manufacturing_employment_data_reshaped = manufacturing_employment_data.melt(\n",
    "    id_vars=['Geography'], var_name='first_day_of_month',  value_name='manufacturing_employment')\n",
    "private_employment_data_reshaped = private_employment_data.melt(\n",
    "    id_vars=['Geography'], var_name='first_day_of_month',  value_name='private_employment')\n",
    "public_employment_data_reshaped = public_employment_data.melt(\n",
    "    id_vars=['Geography'], var_name='first_day_of_month',  value_name='public_employment')\n",
    "retail_employment_data_reshaped = retail_employment_data.melt(\n",
    "    id_vars=['Geography'], var_name='first_day_of_month',  value_name='retail_employment')\n",
    "total_employment_data_reshaped = total_employment_data.melt(\n",
    "    id_vars=['Geography'], var_name='first_day_of_month',  value_name='total_employment')\n",
    "unemployment_rate_data_reshaped = unemployment_rate_data.melt(\n",
    "    id_vars=['Geography'], var_name='first_day_of_month',  value_name='unemployment_rate')\n",
    "\n",
    "# Sample head\n",
    "public_employment_data_reshaped.head(3)"
   ],
   "metadata": {
    "collapsed": false
   }
  },
  {
   "cell_type": "markdown",
   "source": [
    "Next, I am merging all of them to one big DataFrame"
   ],
   "metadata": {
    "collapsed": false
   }
  },
  {
   "cell_type": "code",
   "execution_count": 7,
   "outputs": [
    {
     "data": {
      "text/plain": "           state first_day_of_month  manufacturing_employment  \\\n0  United States         1990-01-01                   17797.0   \n1        Alabama         1990-01-01                     365.5   \n2         Alaska         1990-01-01                      12.4   \n\n   private_employment  public_employment  retail_employment  total_employment  \\\n0             91048.0            18151.0            13260.2          109199.0   \n1              1310.5              325.4              191.2            1635.9   \n2               162.0               68.8               25.3             230.8   \n\n   unemployment_rate  \n0                5.4  \n1                6.7  \n2                7.2  ",
      "text/html": "<div>\n<style scoped>\n    .dataframe tbody tr th:only-of-type {\n        vertical-align: middle;\n    }\n\n    .dataframe tbody tr th {\n        vertical-align: top;\n    }\n\n    .dataframe thead th {\n        text-align: right;\n    }\n</style>\n<table border=\"1\" class=\"dataframe\">\n  <thead>\n    <tr style=\"text-align: right;\">\n      <th></th>\n      <th>state</th>\n      <th>first_day_of_month</th>\n      <th>manufacturing_employment</th>\n      <th>private_employment</th>\n      <th>public_employment</th>\n      <th>retail_employment</th>\n      <th>total_employment</th>\n      <th>unemployment_rate</th>\n    </tr>\n  </thead>\n  <tbody>\n    <tr>\n      <th>0</th>\n      <td>United States</td>\n      <td>1990-01-01</td>\n      <td>17797.0</td>\n      <td>91048.0</td>\n      <td>18151.0</td>\n      <td>13260.2</td>\n      <td>109199.0</td>\n      <td>5.4</td>\n    </tr>\n    <tr>\n      <th>1</th>\n      <td>Alabama</td>\n      <td>1990-01-01</td>\n      <td>365.5</td>\n      <td>1310.5</td>\n      <td>325.4</td>\n      <td>191.2</td>\n      <td>1635.9</td>\n      <td>6.7</td>\n    </tr>\n    <tr>\n      <th>2</th>\n      <td>Alaska</td>\n      <td>1990-01-01</td>\n      <td>12.4</td>\n      <td>162.0</td>\n      <td>68.8</td>\n      <td>25.3</td>\n      <td>230.8</td>\n      <td>7.2</td>\n    </tr>\n  </tbody>\n</table>\n</div>"
     },
     "execution_count": 7,
     "metadata": {},
     "output_type": "execute_result"
    }
   ],
   "source": [
    "# Create gathered data DataFrame\n",
    "gathered_data_df = pd.merge(\n",
    "    manufacturing_employment_data_reshaped,\n",
    "    private_employment_data_reshaped,\n",
    "    how='left',\n",
    "    left_on=['Geography', 'first_day_of_month'],\n",
    "    right_on=['Geography', 'first_day_of_month']\n",
    ")\n",
    "\n",
    "gathered_data_df = pd.merge(\n",
    "    gathered_data_df,\n",
    "    public_employment_data_reshaped,\n",
    "    how='outer',\n",
    "    left_on=['Geography', 'first_day_of_month'],\n",
    "    right_on=['Geography', 'first_day_of_month']\n",
    ")\n",
    "\n",
    "gathered_data_df = pd.merge(\n",
    "    gathered_data_df,\n",
    "    retail_employment_data_reshaped,\n",
    "    how='outer',\n",
    "    left_on=['Geography', 'first_day_of_month'],\n",
    "    right_on=['Geography', 'first_day_of_month']\n",
    ")\n",
    "\n",
    "gathered_data_df = pd.merge(\n",
    "    gathered_data_df,\n",
    "    total_employment_data_reshaped,\n",
    "    how='outer',\n",
    "    left_on=['Geography', 'first_day_of_month'],\n",
    "    right_on=['Geography', 'first_day_of_month']\n",
    ")\n",
    "\n",
    "gathered_data_df = pd.merge(\n",
    "    gathered_data_df,\n",
    "    unemployment_rate_data_reshaped,\n",
    "    how='outer',\n",
    "    left_on=['Geography', 'first_day_of_month'],\n",
    "    right_on=['Geography', 'first_day_of_month']\n",
    ")\n",
    "\n",
    "# Change column name just for convenience and easier future merging\n",
    "gathered_data_df = gathered_data_df.rename(columns={'Geography': 'state'})\n",
    "\n",
    "gathered_data_df.head(3)"
   ],
   "metadata": {
    "collapsed": false
   }
  },
  {
   "cell_type": "markdown",
   "source": [
    "I will also add column of first day of month given in ordinal value, so that we can use it as regression variable."
   ],
   "metadata": {
    "collapsed": false
   }
  },
  {
   "cell_type": "code",
   "execution_count": 8,
   "outputs": [
    {
     "data": {
      "text/plain": "           state first_day_of_month  manufacturing_employment  \\\n0  United States         1990-01-01                   17797.0   \n1        Alabama         1990-01-01                     365.5   \n2         Alaska         1990-01-01                      12.4   \n\n   private_employment  public_employment  retail_employment  total_employment  \\\n0             91048.0            18151.0            13260.2          109199.0   \n1              1310.5              325.4              191.2            1635.9   \n2               162.0               68.8               25.3             230.8   \n\n   unemployment_rate  first_day_of_month_ordinal  \n0                5.4                      726468  \n1                6.7                      726468  \n2                7.2                      726468  ",
      "text/html": "<div>\n<style scoped>\n    .dataframe tbody tr th:only-of-type {\n        vertical-align: middle;\n    }\n\n    .dataframe tbody tr th {\n        vertical-align: top;\n    }\n\n    .dataframe thead th {\n        text-align: right;\n    }\n</style>\n<table border=\"1\" class=\"dataframe\">\n  <thead>\n    <tr style=\"text-align: right;\">\n      <th></th>\n      <th>state</th>\n      <th>first_day_of_month</th>\n      <th>manufacturing_employment</th>\n      <th>private_employment</th>\n      <th>public_employment</th>\n      <th>retail_employment</th>\n      <th>total_employment</th>\n      <th>unemployment_rate</th>\n      <th>first_day_of_month_ordinal</th>\n    </tr>\n  </thead>\n  <tbody>\n    <tr>\n      <th>0</th>\n      <td>United States</td>\n      <td>1990-01-01</td>\n      <td>17797.0</td>\n      <td>91048.0</td>\n      <td>18151.0</td>\n      <td>13260.2</td>\n      <td>109199.0</td>\n      <td>5.4</td>\n      <td>726468</td>\n    </tr>\n    <tr>\n      <th>1</th>\n      <td>Alabama</td>\n      <td>1990-01-01</td>\n      <td>365.5</td>\n      <td>1310.5</td>\n      <td>325.4</td>\n      <td>191.2</td>\n      <td>1635.9</td>\n      <td>6.7</td>\n      <td>726468</td>\n    </tr>\n    <tr>\n      <th>2</th>\n      <td>Alaska</td>\n      <td>1990-01-01</td>\n      <td>12.4</td>\n      <td>162.0</td>\n      <td>68.8</td>\n      <td>25.3</td>\n      <td>230.8</td>\n      <td>7.2</td>\n      <td>726468</td>\n    </tr>\n  </tbody>\n</table>\n</div>"
     },
     "execution_count": 8,
     "metadata": {},
     "output_type": "execute_result"
    }
   ],
   "source": [
    "# Add First day of month ordinal value\n",
    "gathered_data_df['first_day_of_month_ordinal'] = pd.to_datetime(gathered_data_df['first_day_of_month'])\n",
    "gathered_data_df['first_day_of_month_ordinal'] = [datetime.datetime.toordinal(x) for x in\n",
    "                                                  gathered_data_df['first_day_of_month_ordinal']]\n",
    "gathered_data_df.head(3)"
   ],
   "metadata": {
    "collapsed": false
   }
  },
  {
   "cell_type": "markdown",
   "source": [
    "### Training and test sets\n",
    "\n",
    "In the next step I am preparing sets used for training and testing models. Those will be divided into two cases:\n",
    "\n",
    "- Data for all counties - this will let us validate our models,\n",
    "- Data for one county - this will make it easier to show on a plot how regression acts.\n"
   ],
   "metadata": {
    "collapsed": false
   }
  },
  {
   "cell_type": "markdown",
   "source": [
    "First I will specify columns that contain pure values that can be used as training parameters"
   ],
   "metadata": {
    "collapsed": false
   }
  },
  {
   "cell_type": "code",
   "execution_count": 9,
   "outputs": [],
   "source": [
    "value_columns = ['manufacturing_employment', 'private_employment', 'public_employment', 'retail_employment',\n",
    "                 'total_employment', 'unemployment_rate', 'first_day_of_month_ordinal']"
   ],
   "metadata": {
    "collapsed": false
   }
  },
  {
   "cell_type": "markdown",
   "source": [
    "And now we can specify our training and test sets. I will create all_train and all_test DataFrames with additional values like cfips or first_day_of_month to extract some specific rows if needed. Train data will base on train_set and test data will base on revealed_test, which is the latest data published.<br />\n",
    "**My assumption for prediction strategy -** I treat this project educational and my main goal for this project is to learn machine learning techniques, so I am looking for relationships between data from the same month. I think some factors may have lagged impact on microbusiness density, but in this project I will neglect it intentionally, not to make the notebook too vast."
   ],
   "metadata": {
    "collapsed": false
   }
  },
  {
   "cell_type": "markdown",
   "source": [
    "Let's start with values for whole country:"
   ],
   "metadata": {
    "collapsed": false
   }
  },
  {
   "cell_type": "code",
   "execution_count": 10,
   "outputs": [
    {
     "data": {
      "text/plain": "            row_id  cfips          county    state first_day_of_month  \\\n0  1001_2019-08-01   1001  Autauga County  Alabama         2019-08-01   \n1  1001_2019-09-01   1001  Autauga County  Alabama         2019-09-01   \n2  1001_2019-10-01   1001  Autauga County  Alabama         2019-10-01   \n\n   microbusiness_density  active  manufacturing_employment  \\\n0               3.007682    1249                     268.7   \n1               2.884870    1198                     268.4   \n2               3.055843    1269                     268.8   \n\n   private_employment  public_employment  retail_employment  total_employment  \\\n0              1689.2              394.0              230.3            2083.2   \n1              1688.7              394.0              230.5            2082.7   \n2              1688.0              393.1              230.5            2081.1   \n\n   unemployment_rate  first_day_of_month_ordinal  \n0                2.9                      737272  \n1                2.9                      737303  \n2                3.0                      737333  ",
      "text/html": "<div>\n<style scoped>\n    .dataframe tbody tr th:only-of-type {\n        vertical-align: middle;\n    }\n\n    .dataframe tbody tr th {\n        vertical-align: top;\n    }\n\n    .dataframe thead th {\n        text-align: right;\n    }\n</style>\n<table border=\"1\" class=\"dataframe\">\n  <thead>\n    <tr style=\"text-align: right;\">\n      <th></th>\n      <th>row_id</th>\n      <th>cfips</th>\n      <th>county</th>\n      <th>state</th>\n      <th>first_day_of_month</th>\n      <th>microbusiness_density</th>\n      <th>active</th>\n      <th>manufacturing_employment</th>\n      <th>private_employment</th>\n      <th>public_employment</th>\n      <th>retail_employment</th>\n      <th>total_employment</th>\n      <th>unemployment_rate</th>\n      <th>first_day_of_month_ordinal</th>\n    </tr>\n  </thead>\n  <tbody>\n    <tr>\n      <th>0</th>\n      <td>1001_2019-08-01</td>\n      <td>1001</td>\n      <td>Autauga County</td>\n      <td>Alabama</td>\n      <td>2019-08-01</td>\n      <td>3.007682</td>\n      <td>1249</td>\n      <td>268.7</td>\n      <td>1689.2</td>\n      <td>394.0</td>\n      <td>230.3</td>\n      <td>2083.2</td>\n      <td>2.9</td>\n      <td>737272</td>\n    </tr>\n    <tr>\n      <th>1</th>\n      <td>1001_2019-09-01</td>\n      <td>1001</td>\n      <td>Autauga County</td>\n      <td>Alabama</td>\n      <td>2019-09-01</td>\n      <td>2.884870</td>\n      <td>1198</td>\n      <td>268.4</td>\n      <td>1688.7</td>\n      <td>394.0</td>\n      <td>230.5</td>\n      <td>2082.7</td>\n      <td>2.9</td>\n      <td>737303</td>\n    </tr>\n    <tr>\n      <th>2</th>\n      <td>1001_2019-10-01</td>\n      <td>1001</td>\n      <td>Autauga County</td>\n      <td>Alabama</td>\n      <td>2019-10-01</td>\n      <td>3.055843</td>\n      <td>1269</td>\n      <td>268.8</td>\n      <td>1688.0</td>\n      <td>393.1</td>\n      <td>230.5</td>\n      <td>2081.1</td>\n      <td>3.0</td>\n      <td>737333</td>\n    </tr>\n  </tbody>\n</table>\n</div>"
     },
     "execution_count": 10,
     "metadata": {},
     "output_type": "execute_result"
    }
   ],
   "source": [
    "# Training data for all regions\n",
    "all_train = pd.merge(\n",
    "    train_set,\n",
    "    gathered_data_df,\n",
    "    how='left',\n",
    "    left_on=['state', 'first_day_of_month'],\n",
    "    right_on=['state', 'first_day_of_month']\n",
    ")\n",
    "\n",
    "all_train.head(3)"
   ],
   "metadata": {
    "collapsed": false
   }
  },
  {
   "cell_type": "code",
   "execution_count": 11,
   "outputs": [
    {
     "data": {
      "text/plain": "   manufacturing_employment  private_employment  public_employment  \\\n0                     268.7              1689.2              394.0   \n1                     268.4              1688.7              394.0   \n2                     268.8              1688.0              393.1   \n\n   retail_employment  total_employment  unemployment_rate  \\\n0              230.3            2083.2                2.9   \n1              230.5            2082.7                2.9   \n2              230.5            2081.1                3.0   \n\n   first_day_of_month_ordinal  \n0                      737272  \n1                      737303  \n2                      737333  ",
      "text/html": "<div>\n<style scoped>\n    .dataframe tbody tr th:only-of-type {\n        vertical-align: middle;\n    }\n\n    .dataframe tbody tr th {\n        vertical-align: top;\n    }\n\n    .dataframe thead th {\n        text-align: right;\n    }\n</style>\n<table border=\"1\" class=\"dataframe\">\n  <thead>\n    <tr style=\"text-align: right;\">\n      <th></th>\n      <th>manufacturing_employment</th>\n      <th>private_employment</th>\n      <th>public_employment</th>\n      <th>retail_employment</th>\n      <th>total_employment</th>\n      <th>unemployment_rate</th>\n      <th>first_day_of_month_ordinal</th>\n    </tr>\n  </thead>\n  <tbody>\n    <tr>\n      <th>0</th>\n      <td>268.7</td>\n      <td>1689.2</td>\n      <td>394.0</td>\n      <td>230.3</td>\n      <td>2083.2</td>\n      <td>2.9</td>\n      <td>737272</td>\n    </tr>\n    <tr>\n      <th>1</th>\n      <td>268.4</td>\n      <td>1688.7</td>\n      <td>394.0</td>\n      <td>230.5</td>\n      <td>2082.7</td>\n      <td>2.9</td>\n      <td>737303</td>\n    </tr>\n    <tr>\n      <th>2</th>\n      <td>268.8</td>\n      <td>1688.0</td>\n      <td>393.1</td>\n      <td>230.5</td>\n      <td>2081.1</td>\n      <td>3.0</td>\n      <td>737333</td>\n    </tr>\n  </tbody>\n</table>\n</div>"
     },
     "execution_count": 11,
     "metadata": {},
     "output_type": "execute_result"
    }
   ],
   "source": [
    "# Training set for all regions - variables\n",
    "all_train_X = all_train.loc[:, value_columns]\n",
    "all_train_X.head(3)"
   ],
   "metadata": {
    "collapsed": false
   }
  },
  {
   "cell_type": "code",
   "execution_count": 12,
   "outputs": [
    {
     "data": {
      "text/plain": "0    3.007682\n1    2.884870\n2    3.055843\nName: microbusiness_density, dtype: float64"
     },
     "execution_count": 12,
     "metadata": {},
     "output_type": "execute_result"
    }
   ],
   "source": [
    "# Training set for all regions - target values\n",
    "all_train_y = all_train.loc[:, 'microbusiness_density']\n",
    "all_train_y.head(3)"
   ],
   "metadata": {
    "collapsed": false
   }
  },
  {
   "cell_type": "code",
   "execution_count": 13,
   "outputs": [
    {
     "data": {
      "text/plain": "            row_id  cfips          county    state first_day_of_month  \\\n0  1001_2022-11-01   1001  Autauga County  Alabama         2022-11-01   \n1  1001_2022-12-01   1001  Autauga County  Alabama         2022-12-01   \n2  1003_2022-11-01   1003  Baldwin County  Alabama         2022-11-01   \n\n   microbusiness_density  active  manufacturing_employment  \\\n0               3.442677    1463                     272.1   \n1               3.470915    1475                     272.7   \n2               8.257636   14145                     272.1   \n\n   private_employment  public_employment  retail_employment  total_employment  \\\n0              1710.6              393.3              237.3            2103.9   \n1              1713.1              395.3              238.0            2108.4   \n2              1710.6              393.3              237.3            2103.9   \n\n   unemployment_rate  first_day_of_month_ordinal  \n0                2.7                      738460  \n1                2.8                      738490  \n2                2.7                      738460  ",
      "text/html": "<div>\n<style scoped>\n    .dataframe tbody tr th:only-of-type {\n        vertical-align: middle;\n    }\n\n    .dataframe tbody tr th {\n        vertical-align: top;\n    }\n\n    .dataframe thead th {\n        text-align: right;\n    }\n</style>\n<table border=\"1\" class=\"dataframe\">\n  <thead>\n    <tr style=\"text-align: right;\">\n      <th></th>\n      <th>row_id</th>\n      <th>cfips</th>\n      <th>county</th>\n      <th>state</th>\n      <th>first_day_of_month</th>\n      <th>microbusiness_density</th>\n      <th>active</th>\n      <th>manufacturing_employment</th>\n      <th>private_employment</th>\n      <th>public_employment</th>\n      <th>retail_employment</th>\n      <th>total_employment</th>\n      <th>unemployment_rate</th>\n      <th>first_day_of_month_ordinal</th>\n    </tr>\n  </thead>\n  <tbody>\n    <tr>\n      <th>0</th>\n      <td>1001_2022-11-01</td>\n      <td>1001</td>\n      <td>Autauga County</td>\n      <td>Alabama</td>\n      <td>2022-11-01</td>\n      <td>3.442677</td>\n      <td>1463</td>\n      <td>272.1</td>\n      <td>1710.6</td>\n      <td>393.3</td>\n      <td>237.3</td>\n      <td>2103.9</td>\n      <td>2.7</td>\n      <td>738460</td>\n    </tr>\n    <tr>\n      <th>1</th>\n      <td>1001_2022-12-01</td>\n      <td>1001</td>\n      <td>Autauga County</td>\n      <td>Alabama</td>\n      <td>2022-12-01</td>\n      <td>3.470915</td>\n      <td>1475</td>\n      <td>272.7</td>\n      <td>1713.1</td>\n      <td>395.3</td>\n      <td>238.0</td>\n      <td>2108.4</td>\n      <td>2.8</td>\n      <td>738490</td>\n    </tr>\n    <tr>\n      <th>2</th>\n      <td>1003_2022-11-01</td>\n      <td>1003</td>\n      <td>Baldwin County</td>\n      <td>Alabama</td>\n      <td>2022-11-01</td>\n      <td>8.257636</td>\n      <td>14145</td>\n      <td>272.1</td>\n      <td>1710.6</td>\n      <td>393.3</td>\n      <td>237.3</td>\n      <td>2103.9</td>\n      <td>2.7</td>\n      <td>738460</td>\n    </tr>\n  </tbody>\n</table>\n</div>"
     },
     "execution_count": 13,
     "metadata": {},
     "output_type": "execute_result"
    }
   ],
   "source": [
    "# Testing data for all regions\n",
    "all_test = pd.merge(\n",
    "    revealed_test,\n",
    "    gathered_data_df,\n",
    "    how='left',\n",
    "    on=['state', 'first_day_of_month']\n",
    ")\n",
    "\n",
    "all_test.head(3)"
   ],
   "metadata": {
    "collapsed": false
   }
  },
  {
   "cell_type": "code",
   "execution_count": 14,
   "outputs": [
    {
     "data": {
      "text/plain": "   manufacturing_employment  private_employment  public_employment  \\\n0                     272.1              1710.6              393.3   \n1                     272.7              1713.1              395.3   \n2                     272.1              1710.6              393.3   \n\n   retail_employment  total_employment  unemployment_rate  \\\n0              237.3            2103.9                2.7   \n1              238.0            2108.4                2.8   \n2              237.3            2103.9                2.7   \n\n   first_day_of_month_ordinal  \n0                      738460  \n1                      738490  \n2                      738460  ",
      "text/html": "<div>\n<style scoped>\n    .dataframe tbody tr th:only-of-type {\n        vertical-align: middle;\n    }\n\n    .dataframe tbody tr th {\n        vertical-align: top;\n    }\n\n    .dataframe thead th {\n        text-align: right;\n    }\n</style>\n<table border=\"1\" class=\"dataframe\">\n  <thead>\n    <tr style=\"text-align: right;\">\n      <th></th>\n      <th>manufacturing_employment</th>\n      <th>private_employment</th>\n      <th>public_employment</th>\n      <th>retail_employment</th>\n      <th>total_employment</th>\n      <th>unemployment_rate</th>\n      <th>first_day_of_month_ordinal</th>\n    </tr>\n  </thead>\n  <tbody>\n    <tr>\n      <th>0</th>\n      <td>272.1</td>\n      <td>1710.6</td>\n      <td>393.3</td>\n      <td>237.3</td>\n      <td>2103.9</td>\n      <td>2.7</td>\n      <td>738460</td>\n    </tr>\n    <tr>\n      <th>1</th>\n      <td>272.7</td>\n      <td>1713.1</td>\n      <td>395.3</td>\n      <td>238.0</td>\n      <td>2108.4</td>\n      <td>2.8</td>\n      <td>738490</td>\n    </tr>\n    <tr>\n      <th>2</th>\n      <td>272.1</td>\n      <td>1710.6</td>\n      <td>393.3</td>\n      <td>237.3</td>\n      <td>2103.9</td>\n      <td>2.7</td>\n      <td>738460</td>\n    </tr>\n  </tbody>\n</table>\n</div>"
     },
     "execution_count": 14,
     "metadata": {},
     "output_type": "execute_result"
    }
   ],
   "source": [
    "# Testing data - variables\n",
    "all_test_X = all_test.loc[:, value_columns]\n",
    "all_test_X.head(3)"
   ],
   "metadata": {
    "collapsed": false
   }
  },
  {
   "cell_type": "code",
   "execution_count": 15,
   "outputs": [
    {
     "data": {
      "text/plain": "   cfips first_day_of_month  microbusiness_density\n0   1001         2022-11-01               3.442677\n1   1001         2022-12-01               3.470915\n2   1003         2022-11-01               8.257636",
      "text/html": "<div>\n<style scoped>\n    .dataframe tbody tr th:only-of-type {\n        vertical-align: middle;\n    }\n\n    .dataframe tbody tr th {\n        vertical-align: top;\n    }\n\n    .dataframe thead th {\n        text-align: right;\n    }\n</style>\n<table border=\"1\" class=\"dataframe\">\n  <thead>\n    <tr style=\"text-align: right;\">\n      <th></th>\n      <th>cfips</th>\n      <th>first_day_of_month</th>\n      <th>microbusiness_density</th>\n    </tr>\n  </thead>\n  <tbody>\n    <tr>\n      <th>0</th>\n      <td>1001</td>\n      <td>2022-11-01</td>\n      <td>3.442677</td>\n    </tr>\n    <tr>\n      <th>1</th>\n      <td>1001</td>\n      <td>2022-12-01</td>\n      <td>3.470915</td>\n    </tr>\n    <tr>\n      <th>2</th>\n      <td>1003</td>\n      <td>2022-11-01</td>\n      <td>8.257636</td>\n    </tr>\n  </tbody>\n</table>\n</div>"
     },
     "execution_count": 15,
     "metadata": {},
     "output_type": "execute_result"
    }
   ],
   "source": [
    "# Testing data - validation values\n",
    "all_test_y = all_test.loc[:, ['cfips', 'first_day_of_month', 'microbusiness_density']]\n",
    "all_test_y.head(3)"
   ],
   "metadata": {
    "collapsed": false
   }
  },
  {
   "cell_type": "markdown",
   "source": [
    "Now let's get one specific county and extract values just for it, to have a look on a plot how particular models work."
   ],
   "metadata": {
    "collapsed": false
   }
  },
  {
   "cell_type": "code",
   "execution_count": 16,
   "outputs": [
    {
     "data": {
      "text/plain": "    manufacturing_employment  private_employment  public_employment  \\\n78                     268.7              1689.2              394.0   \n79                     268.4              1688.7              394.0   \n80                     268.8              1688.0              393.1   \n81                     269.0              1690.3              393.2   \n82                     269.3              1691.4              393.0   \n\n    retail_employment  total_employment  unemployment_rate  \\\n78              230.3            2083.2                2.9   \n79              230.5            2082.7                2.9   \n80              230.5            2081.1                3.0   \n81              230.5            2083.5                3.1   \n82              229.8            2084.4                3.2   \n\n    first_day_of_month_ordinal  \n78                      737272  \n79                      737303  \n80                      737333  \n81                      737364  \n82                      737394  ",
      "text/html": "<div>\n<style scoped>\n    .dataframe tbody tr th:only-of-type {\n        vertical-align: middle;\n    }\n\n    .dataframe tbody tr th {\n        vertical-align: top;\n    }\n\n    .dataframe thead th {\n        text-align: right;\n    }\n</style>\n<table border=\"1\" class=\"dataframe\">\n  <thead>\n    <tr style=\"text-align: right;\">\n      <th></th>\n      <th>manufacturing_employment</th>\n      <th>private_employment</th>\n      <th>public_employment</th>\n      <th>retail_employment</th>\n      <th>total_employment</th>\n      <th>unemployment_rate</th>\n      <th>first_day_of_month_ordinal</th>\n    </tr>\n  </thead>\n  <tbody>\n    <tr>\n      <th>78</th>\n      <td>268.7</td>\n      <td>1689.2</td>\n      <td>394.0</td>\n      <td>230.3</td>\n      <td>2083.2</td>\n      <td>2.9</td>\n      <td>737272</td>\n    </tr>\n    <tr>\n      <th>79</th>\n      <td>268.4</td>\n      <td>1688.7</td>\n      <td>394.0</td>\n      <td>230.5</td>\n      <td>2082.7</td>\n      <td>2.9</td>\n      <td>737303</td>\n    </tr>\n    <tr>\n      <th>80</th>\n      <td>268.8</td>\n      <td>1688.0</td>\n      <td>393.1</td>\n      <td>230.5</td>\n      <td>2081.1</td>\n      <td>3.0</td>\n      <td>737333</td>\n    </tr>\n    <tr>\n      <th>81</th>\n      <td>269.0</td>\n      <td>1690.3</td>\n      <td>393.2</td>\n      <td>230.5</td>\n      <td>2083.5</td>\n      <td>3.1</td>\n      <td>737364</td>\n    </tr>\n    <tr>\n      <th>82</th>\n      <td>269.3</td>\n      <td>1691.4</td>\n      <td>393.0</td>\n      <td>229.8</td>\n      <td>2084.4</td>\n      <td>3.2</td>\n      <td>737394</td>\n    </tr>\n  </tbody>\n</table>\n</div>"
     },
     "execution_count": 16,
     "metadata": {},
     "output_type": "execute_result"
    }
   ],
   "source": [
    "# Select county\n",
    "cfips = 1005\n",
    "\n",
    "# Training sets\n",
    "single_train_X = all_train.loc[all_train['cfips']==cfips, value_columns]\n",
    "single_train_y = all_train.loc[all_train['cfips']==cfips, 'microbusiness_density']\n",
    "single_train_X.head()"
   ],
   "metadata": {
    "collapsed": false
   }
  },
  {
   "cell_type": "code",
   "execution_count": 17,
   "outputs": [
    {
     "data": {
      "text/plain": "4    1.247223\n5    1.252272\nName: microbusiness_density, dtype: float64"
     },
     "execution_count": 17,
     "metadata": {},
     "output_type": "execute_result"
    }
   ],
   "source": [
    "# Testing sets\n",
    "single_test_X = all_test.loc[all_test['cfips']==cfips, value_columns]\n",
    "single_test_y = all_test.loc[all_test['cfips']==cfips, 'microbusiness_density']\n",
    "single_test_y.head()"
   ],
   "metadata": {
    "collapsed": false
   }
  },
  {
   "cell_type": "markdown",
   "source": [
    "As can be seen above, there are just two rows, because in revealed_test there are values from only two months available."
   ],
   "metadata": {
    "collapsed": false
   }
  },
  {
   "cell_type": "markdown",
   "source": [
    "At the end of this part I will create a template of DataFrame to store prediction values for single county"
   ],
   "metadata": {
    "collapsed": false
   }
  },
  {
   "cell_type": "code",
   "execution_count": 18,
   "outputs": [
    {
     "data": {
      "text/plain": "   first_day_of_month  microbusiness_density\n78         2019-08-01               1.073138\n79         2019-09-01               0.995794\n80         2019-10-01               1.160149",
      "text/html": "<div>\n<style scoped>\n    .dataframe tbody tr th:only-of-type {\n        vertical-align: middle;\n    }\n\n    .dataframe tbody tr th {\n        vertical-align: top;\n    }\n\n    .dataframe thead th {\n        text-align: right;\n    }\n</style>\n<table border=\"1\" class=\"dataframe\">\n  <thead>\n    <tr style=\"text-align: right;\">\n      <th></th>\n      <th>first_day_of_month</th>\n      <th>microbusiness_density</th>\n    </tr>\n  </thead>\n  <tbody>\n    <tr>\n      <th>78</th>\n      <td>2019-08-01</td>\n      <td>1.073138</td>\n    </tr>\n    <tr>\n      <th>79</th>\n      <td>2019-09-01</td>\n      <td>0.995794</td>\n    </tr>\n    <tr>\n      <th>80</th>\n      <td>2019-10-01</td>\n      <td>1.160149</td>\n    </tr>\n  </tbody>\n</table>\n</div>"
     },
     "execution_count": 18,
     "metadata": {},
     "output_type": "execute_result"
    }
   ],
   "source": [
    "single_prediction_results_template = all_train.loc[all_train['cfips']==cfips, ['first_day_of_month', 'microbusiness_density']]\n",
    "single_prediction_results_template.head(3)"
   ],
   "metadata": {
    "collapsed": false
   }
  },
  {
   "cell_type": "markdown",
   "source": [
    "## Data analysis"
   ],
   "metadata": {
    "collapsed": false
   }
  },
  {
   "cell_type": "markdown",
   "source": [
    "Let's start analyzing data with defining function that will score our models. We will use Symmetric mean absolute percentage error, which is an accuracy measure based on relative errors. It is defined as follows:\n",
    "<br />\n",
    "\n",
    "$$\n",
    "\\large SMAPE = \\frac{1}{n} \\sum_{t=1}^{n} \\frac {|F_t - A_t|} { \\frac {(|F_t| + |A_t|)} {2} }\n",
    "$$\n",
    "\n",
    "Where:\n",
    "- $F_t$ - predicted value\n",
    "- $A_t$ - actual value\n"
   ],
   "metadata": {
    "collapsed": false
   }
  },
  {
   "cell_type": "code",
   "execution_count": 19,
   "outputs": [],
   "source": [
    "# Validation function\n",
    "def smape(actual, forecast):\n",
    "    numerator = np.abs(actual-forecast)\n",
    "    denominator = (np.abs(actual) + np.abs(forecast))/2\n",
    "    return 1/len(actual) * np.sum(numerator/denominator)"
   ],
   "metadata": {
    "collapsed": false
   }
  },
  {
   "cell_type": "markdown",
   "source": [
    "### Linear regression model - ordinary least squares\n",
    "\n",
    "I will start with the most basic type of regression - ordinary least squares. I will train model for data of each cfips number and store predicted value that will be compared to test set."
   ],
   "metadata": {
    "collapsed": false
   }
  },
  {
   "cell_type": "code",
   "execution_count": 20,
   "outputs": [],
   "source": [
    "# Create model\n",
    "lin_reg_model = linear_model.LinearRegression()"
   ],
   "metadata": {
    "collapsed": false
   }
  },
  {
   "cell_type": "markdown",
   "source": [
    "### Ridge regression"
   ],
   "metadata": {
    "collapsed": false
   }
  },
  {
   "cell_type": "code",
   "execution_count": 21,
   "outputs": [],
   "source": [
    "# Create model\n",
    "ridge_alphas = np.logspace(-5, 5, 11)\n",
    "ridge_model = linear_model.RidgeCV(alphas=ridge_alphas)"
   ],
   "metadata": {
    "collapsed": false
   }
  },
  {
   "cell_type": "markdown",
   "source": [
    "### Lasso"
   ],
   "metadata": {
    "collapsed": false
   }
  },
  {
   "cell_type": "code",
   "execution_count": 52,
   "outputs": [],
   "source": [
    "# Create models\n",
    "lasso_model = linear_model.LassoLarsCV()"
   ],
   "metadata": {
    "collapsed": false
   }
  },
  {
   "cell_type": "markdown",
   "source": [
    "### Storing values\n",
    "Let's prepare a DataFrames to store predicted values"
   ],
   "metadata": {
    "collapsed": false
   }
  },
  {
   "cell_type": "code",
   "execution_count": 53,
   "outputs": [],
   "source": [
    "predicted_values_list = ['cfips', 'first_day_of_month', 'lin_reg_prediction', 'ridge_prediction', 'lasso_prediction']\n",
    "predicted_values_df = pd.DataFrame(columns=predicted_values_list)"
   ],
   "metadata": {
    "collapsed": false
   }
  },
  {
   "cell_type": "markdown",
   "source": [
    "### Predicting\n",
    "Now the main part: we will iterate through our training data and train models for each county"
   ],
   "metadata": {
    "collapsed": false
   }
  },
  {
   "cell_type": "code",
   "execution_count": 54,
   "outputs": [],
   "source": [
    "# For each day of each cfips we will prepare dataframe with results with following columns:\n",
    "\n",
    "for iter_cfips in all_train['cfips'].unique():\n",
    "    # Get training data\n",
    "    iter_train_X = all_train.loc[all_train['cfips']==iter_cfips, value_columns]\n",
    "    iter_train_y = all_train.loc[all_train['cfips']==iter_cfips, 'microbusiness_density']\n",
    "    # Fit models\n",
    "    lin_reg_model.fit(iter_train_X, iter_train_y)\n",
    "    ridge_model.fit(iter_train_X, iter_train_y)\n",
    "    lasso_model.fit(iter_train_X, iter_train_y)\n",
    "    # Get test data and predict on it\n",
    "    iter_test_X = all_test.loc[all_test['cfips']==iter_cfips, value_columns]\n",
    "    lin_reg_y = lin_reg_model.predict(iter_test_X)\n",
    "    ridge_y = ridge_model.predict(iter_test_X)\n",
    "    lasso_y = lasso_model.predict(iter_test_X)\n",
    "    # Store data\n",
    "    days_predicted = all_test.loc[all_train['cfips']==iter_cfips, 'first_day_of_month'].unique()\n",
    "    for day_index, iter_day in enumerate(days_predicted):\n",
    "        results_list = [\n",
    "            iter_cfips, # cfips\n",
    "            iter_day, # first_day_of_month\n",
    "            lin_reg_y[day_index], # lin_reg_prediction\n",
    "            ridge_y[day_index], # ridge_prediction\n",
    "            lasso_y[day_index] # lasso_prediction\n",
    "        ]\n",
    "        iter_results_df = pd.DataFrame(data=[results_list], columns=predicted_values_list)\n",
    "        predicted_values_df = pd.concat([predicted_values_df, iter_results_df])\n",
    "\n",
    "    predicted_values_df.head(3)"
   ],
   "metadata": {
    "collapsed": false
   }
  },
  {
   "cell_type": "markdown",
   "source": [
    "Let's compare the results. I will create a DataFrame to keep target value for revealed_test and predicted values"
   ],
   "metadata": {
    "collapsed": false
   }
  },
  {
   "cell_type": "code",
   "execution_count": 55,
   "outputs": [
    {
     "data": {
      "text/plain": "  cfips first_day_of_month  microbusiness_density  lin_reg_prediction  \\\n0  1001         2022-11-01               3.442677            3.441722   \n1  1001         2022-12-01               3.470915            3.480276   \n2  1003         2022-11-01               8.257636            8.415975   \n\n   ridge_prediction  lasso_prediction  \n0          3.424219          3.425319  \n1          3.445445          3.438163  \n2          8.342122          8.363835  ",
      "text/html": "<div>\n<style scoped>\n    .dataframe tbody tr th:only-of-type {\n        vertical-align: middle;\n    }\n\n    .dataframe tbody tr th {\n        vertical-align: top;\n    }\n\n    .dataframe thead th {\n        text-align: right;\n    }\n</style>\n<table border=\"1\" class=\"dataframe\">\n  <thead>\n    <tr style=\"text-align: right;\">\n      <th></th>\n      <th>cfips</th>\n      <th>first_day_of_month</th>\n      <th>microbusiness_density</th>\n      <th>lin_reg_prediction</th>\n      <th>ridge_prediction</th>\n      <th>lasso_prediction</th>\n    </tr>\n  </thead>\n  <tbody>\n    <tr>\n      <th>0</th>\n      <td>1001</td>\n      <td>2022-11-01</td>\n      <td>3.442677</td>\n      <td>3.441722</td>\n      <td>3.424219</td>\n      <td>3.425319</td>\n    </tr>\n    <tr>\n      <th>1</th>\n      <td>1001</td>\n      <td>2022-12-01</td>\n      <td>3.470915</td>\n      <td>3.480276</td>\n      <td>3.445445</td>\n      <td>3.438163</td>\n    </tr>\n    <tr>\n      <th>2</th>\n      <td>1003</td>\n      <td>2022-11-01</td>\n      <td>8.257636</td>\n      <td>8.415975</td>\n      <td>8.342122</td>\n      <td>8.363835</td>\n    </tr>\n  </tbody>\n</table>\n</div>"
     },
     "execution_count": 55,
     "metadata": {},
     "output_type": "execute_result"
    }
   ],
   "source": [
    "model_comparison_df = pd.merge(\n",
    "    all_test_y.copy(),\n",
    "    predicted_values_df,\n",
    "    how='left',\n",
    "    on=['cfips', 'first_day_of_month']\n",
    ")\n",
    "model_comparison_df.head(3)"
   ],
   "metadata": {
    "collapsed": false
   }
  },
  {
   "cell_type": "code",
   "execution_count": 56,
   "outputs": [
    {
     "name": "stdout",
     "output_type": "stream",
     "text": [
      "SMAPE score for LinearRegression:  0.00231\n",
      "SMAPE score for RidgeRegression:  0.00242\n",
      "SMAPE score for LassoLarsCV regression:  0.00352\n"
     ]
    }
   ],
   "source": [
    "print(f'SMAPE score for LinearRegression: '\n",
    "      f'{smape(model_comparison_df[\"microbusiness_density\"], model_comparison_df[\"lin_reg_prediction\"]): .5f}')\n",
    "print(f'SMAPE score for RidgeRegression: '\n",
    "      f'{smape(model_comparison_df[\"microbusiness_density\"], model_comparison_df[\"ridge_prediction\"]): .5f}')\n",
    "print(f'SMAPE score for LassoLarsCV regression: '\n",
    "      f'{smape(model_comparison_df[\"microbusiness_density\"], model_comparison_df[\"lasso_prediction\"]): .5f}')"
   ],
   "metadata": {
    "collapsed": false
   }
  },
  {
   "cell_type": "markdown",
   "source": [
    "### Models comparison for single county\n",
    "Now let's check how those models work for single county"
   ],
   "metadata": {
    "collapsed": false
   }
  },
  {
   "cell_type": "code",
   "execution_count": 57,
   "outputs": [
    {
     "data": {
      "text/plain": "   first_day_of_month  microbusiness_density  linear_regression_prediciton  \\\n78         2019-08-01               1.073138                      1.034871   \n79         2019-09-01               0.995794                      1.047396   \n80         2019-10-01               1.160149                      1.034553   \n\n    ridge_prediciton  lasso_prediciton  \n78          1.024547          0.999103  \n79          1.033759          1.004722  \n80          1.029192          1.010109  ",
      "text/html": "<div>\n<style scoped>\n    .dataframe tbody tr th:only-of-type {\n        vertical-align: middle;\n    }\n\n    .dataframe tbody tr th {\n        vertical-align: top;\n    }\n\n    .dataframe thead th {\n        text-align: right;\n    }\n</style>\n<table border=\"1\" class=\"dataframe\">\n  <thead>\n    <tr style=\"text-align: right;\">\n      <th></th>\n      <th>first_day_of_month</th>\n      <th>microbusiness_density</th>\n      <th>linear_regression_prediciton</th>\n      <th>ridge_prediciton</th>\n      <th>lasso_prediciton</th>\n    </tr>\n  </thead>\n  <tbody>\n    <tr>\n      <th>78</th>\n      <td>2019-08-01</td>\n      <td>1.073138</td>\n      <td>1.034871</td>\n      <td>1.024547</td>\n      <td>0.999103</td>\n    </tr>\n    <tr>\n      <th>79</th>\n      <td>2019-09-01</td>\n      <td>0.995794</td>\n      <td>1.047396</td>\n      <td>1.033759</td>\n      <td>1.004722</td>\n    </tr>\n    <tr>\n      <th>80</th>\n      <td>2019-10-01</td>\n      <td>1.160149</td>\n      <td>1.034553</td>\n      <td>1.029192</td>\n      <td>1.010109</td>\n    </tr>\n  </tbody>\n</table>\n</div>"
     },
     "execution_count": 57,
     "metadata": {},
     "output_type": "execute_result"
    }
   ],
   "source": [
    "# Fit models with training data\n",
    "lin_reg_model.fit(single_train_X, single_train_y)\n",
    "ridge_model.fit(single_train_X, single_train_y)\n",
    "lasso_model.fit(single_train_X, single_train_y)\n",
    "# Predict values for test set\n",
    "single_lin_reg_y = lin_reg_model.predict(single_train_X)\n",
    "single_ridge_y = ridge_model.predict(single_train_X)\n",
    "single_lasso_y = lasso_model.predict(single_train_X)\n",
    "# Calculate SMAPE for training data to check how well our model suits it\n",
    "SMAPE_lin_reg_single = smape(single_lin_reg_y, single_train_y)\n",
    "SMAPE_ridge_single = smape(single_ridge_y, single_train_y)\n",
    "SMAPE_lasso_single = smape(single_ridge_y, single_train_y)\n",
    "# Create DF to store results and for plot\n",
    "single_prediction_results = single_prediction_results_template.copy()\n",
    "single_prediction_results['linear_regression_prediciton'] = single_lin_reg_y\n",
    "single_prediction_results['ridge_prediciton'] = single_ridge_y\n",
    "single_prediction_results['lasso_prediciton'] = single_lasso_y\n",
    "single_prediction_results.head(3)"
   ],
   "metadata": {
    "collapsed": false
   }
  },
  {
   "cell_type": "code",
   "execution_count": 58,
   "outputs": [
    {
     "data": {
      "text/plain": "  first_day_of_month                 status     value\n0         2019-08-01  microbusiness_density  1.073138\n1         2019-09-01  microbusiness_density  0.995794\n2         2019-10-01  microbusiness_density  1.160149",
      "text/html": "<div>\n<style scoped>\n    .dataframe tbody tr th:only-of-type {\n        vertical-align: middle;\n    }\n\n    .dataframe tbody tr th {\n        vertical-align: top;\n    }\n\n    .dataframe thead th {\n        text-align: right;\n    }\n</style>\n<table border=\"1\" class=\"dataframe\">\n  <thead>\n    <tr style=\"text-align: right;\">\n      <th></th>\n      <th>first_day_of_month</th>\n      <th>status</th>\n      <th>value</th>\n    </tr>\n  </thead>\n  <tbody>\n    <tr>\n      <th>0</th>\n      <td>2019-08-01</td>\n      <td>microbusiness_density</td>\n      <td>1.073138</td>\n    </tr>\n    <tr>\n      <th>1</th>\n      <td>2019-09-01</td>\n      <td>microbusiness_density</td>\n      <td>0.995794</td>\n    </tr>\n    <tr>\n      <th>2</th>\n      <td>2019-10-01</td>\n      <td>microbusiness_density</td>\n      <td>1.160149</td>\n    </tr>\n  </tbody>\n</table>\n</div>"
     },
     "execution_count": 58,
     "metadata": {},
     "output_type": "execute_result"
    }
   ],
   "source": [
    "# Reshape DF for plot\n",
    "single_lin_reg_results_plot = single_prediction_results.melt(\n",
    "    id_vars='first_day_of_month',\n",
    "    var_name='status'\n",
    ")\n",
    "single_lin_reg_results_plot.head(3)"
   ],
   "metadata": {
    "collapsed": false
   }
  },
  {
   "cell_type": "markdown",
   "source": [
    "Let's show it on a plot!"
   ],
   "metadata": {
    "collapsed": false
   }
  },
  {
   "cell_type": "code",
   "execution_count": 59,
   "outputs": [
    {
     "data": {
      "text/plain": "<Figure size 1800x400 with 1 Axes>",
      "image/png": "[encoded data removed]"
     },
     "metadata": {},
     "output_type": "display_data"
    }
   ],
   "source": [
    "# Plot\n",
    "fig, ax = plt.subplots(figsize=(18, 4), squeeze=False)\n",
    "\n",
    "ax = sns.lineplot(\n",
    "    data=single_lin_reg_results_plot,\n",
    "    x='first_day_of_month',\n",
    "    y='value',\n",
    "    hue='status',\n",
    "    linewidth=2,\n",
    "    palette='Dark2' # ['firebrick', 'cornflowerblue', 'darkorange']\n",
    ")\n",
    "\n",
    "ax.set_title(f'Microbusiness density: cfips {cfips}\\n'\n",
    "             f'Linear regression accuracy: {SMAPE_lin_reg_single: .5f}\\n'\n",
    "             f'Ridge regression accuracy: {SMAPE_ridge_single: .5f}\\n'\n",
    "             f'Lasso regression accuracy: {SMAPE_lasso_single: .5f}', pad=15)\n",
    "ax.set_xlabel('Date', labelpad=15)\n",
    "ax.set_ylabel('Microbusiness density', labelpad=15)\n",
    "ax.tick_params(axis='x', rotation=90)\n",
    "ax.set_xticks(single_lin_reg_results_plot['first_day_of_month'])\n",
    "plt.legend(title='Legend', labels=['Actual density', 'weirdo1', 'Linear Regression', 'weirdo2', 'Ridge Regression', 'weirdo3', 'Lasso'])\n",
    "\n",
    "plt.show()"
   ],
   "metadata": {
    "collapsed": false
   }
  },
  {
   "cell_type": "markdown",
   "source": [
    "-----\n",
    "-----\n",
    "-----"
   ],
   "metadata": {
    "collapsed": false
   }
  },
  {
   "cell_type": "code",
   "execution_count": 30,
   "outputs": [
    {
     "ename": "NameError",
     "evalue": "name 'y_pred_lag_df' is not defined",
     "output_type": "error",
     "traceback": [
      "\u001B[1;31m---------------------------------------------------------------------------\u001B[0m",
      "\u001B[1;31mNameError\u001B[0m                                 Traceback (most recent call last)",
      "Cell \u001B[1;32mIn[30], line 5\u001B[0m\n\u001B[0;32m      1\u001B[0m \u001B[38;5;66;03m# Plot lag data\u001B[39;00m\n\u001B[0;32m      2\u001B[0m fig, ax \u001B[38;5;241m=\u001B[39m plt\u001B[38;5;241m.\u001B[39msubplots(squeeze\u001B[38;5;241m=\u001B[39m\u001B[38;5;28;01mFalse\u001B[39;00m)\n\u001B[0;32m      4\u001B[0m sns\u001B[38;5;241m.\u001B[39mlineplot(\n\u001B[1;32m----> 5\u001B[0m     data\u001B[38;5;241m=\u001B[39m\u001B[43my_pred_lag_df\u001B[49m,\n\u001B[0;32m      6\u001B[0m     x\u001B[38;5;241m=\u001B[39m\u001B[38;5;124m'\u001B[39m\u001B[38;5;124mmicrobusiness_density_lag\u001B[39m\u001B[38;5;124m'\u001B[39m,\n\u001B[0;32m      7\u001B[0m     y\u001B[38;5;241m=\u001B[39m\u001B[38;5;124m'\u001B[39m\u001B[38;5;124mpredicted\u001B[39m\u001B[38;5;124m'\u001B[39m,\n\u001B[0;32m      8\u001B[0m     color\u001B[38;5;241m=\u001B[39m\u001B[38;5;124m'\u001B[39m\u001B[38;5;124mfirebrick\u001B[39m\u001B[38;5;124m'\u001B[39m,\n\u001B[0;32m      9\u001B[0m     ax\u001B[38;5;241m=\u001B[39max[\u001B[38;5;241m0\u001B[39m, \u001B[38;5;241m0\u001B[39m]\n\u001B[0;32m     10\u001B[0m )\n\u001B[0;32m     12\u001B[0m sns\u001B[38;5;241m.\u001B[39mscatterplot(\n\u001B[0;32m     13\u001B[0m     data\u001B[38;5;241m=\u001B[39mlin_reg_lag_df,\n\u001B[0;32m     14\u001B[0m     x\u001B[38;5;241m=\u001B[39m\u001B[38;5;124m'\u001B[39m\u001B[38;5;124mmicrobusiness_density_lag\u001B[39m\u001B[38;5;124m'\u001B[39m,\n\u001B[0;32m     15\u001B[0m     y\u001B[38;5;241m=\u001B[39m\u001B[38;5;124m'\u001B[39m\u001B[38;5;124mmicrobusiness_density\u001B[39m\u001B[38;5;124m'\u001B[39m,\n\u001B[0;32m     16\u001B[0m     ax\u001B[38;5;241m=\u001B[39max[\u001B[38;5;241m0\u001B[39m, \u001B[38;5;241m0\u001B[39m]\n\u001B[0;32m     17\u001B[0m )\n\u001B[0;32m     18\u001B[0m ax[\u001B[38;5;241m0\u001B[39m, \u001B[38;5;241m0\u001B[39m]\u001B[38;5;241m.\u001B[39mset_title(\u001B[38;5;124m'\u001B[39m\u001B[38;5;124mLag feature microbusiness density plot\u001B[39m\u001B[38;5;124m'\u001B[39m, pad\u001B[38;5;241m=\u001B[39m\u001B[38;5;241m15\u001B[39m)\n",
      "\u001B[1;31mNameError\u001B[0m: name 'y_pred_lag_df' is not defined"
     ]
    },
    {
     "data": {
      "text/plain": "<Figure size 640x480 with 1 Axes>",
      "image/png": "[encoded data removed]"
     },
     "metadata": {},
     "output_type": "display_data"
    }
   ],
   "source": [
    "# Plot lag data\n",
    "fig, ax = plt.subplots(squeeze=False)\n",
    "\n",
    "sns.lineplot(\n",
    "    data=y_pred_lag_df,\n",
    "    x='microbusiness_density_lag',\n",
    "    y='predicted',\n",
    "    color='firebrick',\n",
    "    ax=ax[0, 0]\n",
    ")\n",
    "\n",
    "sns.scatterplot(\n",
    "    data=lin_reg_lag_df,\n",
    "    x='microbusiness_density_lag',\n",
    "    y='microbusiness_density',\n",
    "    ax=ax[0, 0]\n",
    ")\n",
    "ax[0, 0].set_title('Lag feature microbusiness density plot', pad=15)\n",
    "ax[0, 0].set_xlabel('Previous month density', labelpad=15)\n",
    "ax[0, 0].set_ylabel('Current month density', labelpad=15)\n",
    "\n",
    "plt.show()"
   ],
   "metadata": {
    "collapsed": false
   }
  },
  {
   "cell_type": "markdown",
   "source": [
    "**Conclusion:** From above we can see a strong relation between previous and current month data"
   ],
   "metadata": {
    "collapsed": false
   }
  },
  {
   "cell_type": "code",
   "execution_count": null,
   "outputs": [],
   "source": [
    "# Plot\n",
    "fig, ax = plt.subplots(figsize=(18, 4), squeeze=False)\n",
    "\n",
    "sns.lineplot(\n",
    "    data=y_pred_lag_df,\n",
    "    x='first_day_of_month',\n",
    "    y='predicted',\n",
    "    ax=ax[0, 0],\n",
    "    color='firebrick',\n",
    "    linewidth=3\n",
    ")\n",
    "\n",
    "sns.lineplot(\n",
    "    data=lin_reg_lag_df,\n",
    "    x='first_day_of_month',\n",
    "    y='microbusiness_density',\n",
    "    ax=ax[0, 0]\n",
    ")\n",
    "ax[0, 0].set_title(f'Microbusiness density: cfips {cfips}', pad=15)\n",
    "ax[0, 0].set_xlabel('Date', labelpad=15)\n",
    "ax[0, 0].set_ylabel('Microbusiness density', labelpad=15)\n",
    "ax[0, 0].tick_params(axis='x', rotation=90)\n",
    "ax[0, 0].set_xticks(y_pred_lag_df['first_day_of_month'])\n",
    "\n",
    "plt.show()"
   ],
   "metadata": {
    "collapsed": false
   }
  },
  {
   "cell_type": "markdown",
   "source": [
    "**Conclusion:** even though the system looks more responsive to data changes, it gave worse SMAPE result."
   ],
   "metadata": {
    "collapsed": false
   }
  },
  {
   "cell_type": "code",
   "execution_count": null,
   "outputs": [],
   "source": [
    "# Plot\n",
    "fig, ax = plt.subplots(figsize=(18, 4))\n",
    "ax = sns.lineplot(\n",
    "    data=ridge_single_forecast_plot_df,\n",
    "    x='first_day_of_month',\n",
    "    y='density',\n",
    "    hue='status',\n",
    "    linewidth=2,\n",
    "    palette=['firebrick', 'cornflowerblue']\n",
    ")\n",
    "\n",
    "ax.set_title(f'Microbusiness density: cfips {cfips}', pad=15)\n",
    "ax.set_xlabel('Date', labelpad=15)\n",
    "ax.set_ylabel('Microbusiness density', labelpad=15)\n",
    "ax.tick_params(axis='x', rotation=90)\n",
    "plt.legend(title='Legend', labels=['Predicted', 'Some weird rectangle idk tbh', 'Actual'])\n",
    "\n",
    "plt.show()"
   ],
   "metadata": {
    "collapsed": false
   }
  }
 ],
 "metadata": {
  "kernelspec": {
   "display_name": "Python 3",
   "language": "python",
   "name": "python3"
  },
  "language_info": {
   "codemirror_mode": {
    "name": "ipython",
    "version": 2
   },
   "file_extension": ".py",
   "mimetype": "text/x-python",
   "name": "python",
   "nbconvert_exporter": "python",
   "pygments_lexer": "ipython2",
   "version": "2.7.6"
  }
 },
 "nbformat": 4,
 "nbformat_minor": 0
}
